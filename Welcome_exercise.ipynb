{
 "cells": [
  {
   "cell_type": "code",
   "execution_count": 1,
   "metadata": {},
   "outputs": [],
   "source": [
    "import numpy as np\n",
    "import pandas as pd\n",
    "import matplotlib.pyplot as plt\n",
    "import seaborn as sns\n",
    "%matplotlib inline\n",
    "\n",
    "# Loading dataset.\n",
    "welcome = pd.read_csv('WELLCOME_APCspend2013_forThinkful_2.csv')"
   ]
  },
  {
   "cell_type": "code",
   "execution_count": 2,
   "metadata": {},
   "outputs": [
    {
     "name": "stdout",
     "output_type": "stream",
     "text": [
      "Index([' ', 'Publisher', 'Journal title', 'Article title',\n",
      "       'COST (£) charged to Wellcome (inc VAT when charged)'],\n",
      "      dtype='object')\n"
     ]
    }
   ],
   "source": [
    "print(welcome.columns)"
   ]
  },
  {
   "cell_type": "markdown",
   "metadata": {},
   "source": [
    "determine the five most common journals and the total articles for each. Next, calculate the mean, median, and standard deviation of the open-access cost per article for each journal ."
   ]
  },
  {
   "cell_type": "code",
   "execution_count": 3,
   "metadata": {},
   "outputs": [
    {
     "name": "stdout",
     "output_type": "stream",
     "text": [
      "PLoS One                                           92\n",
      "PLoS ONE                                           62\n",
      "Journal of Biological Chemistry                    48\n",
      "Nucleic Acids Research                             21\n",
      "Proceedings of the National Academy of Sciences    19\n",
      "Name: Journal title, dtype: int64\n"
     ]
    }
   ],
   "source": [
    "print(welcome['Journal title'].value_counts().head(5))"
   ]
  },
  {
   "cell_type": "markdown",
   "metadata": {},
   "source": [
    "Journal Titles are mis-entered with mismatched capitalization"
   ]
  },
  {
   "cell_type": "code",
   "execution_count": 4,
   "metadata": {},
   "outputs": [
    {
     "name": "stdout",
     "output_type": "stream",
     "text": [
      "plos one                           190\n",
      "journal of biological chemistry     53\n",
      "neuroimage                          29\n",
      "plos pathogens                      24\n",
      "plos genetics                       24\n",
      "Name: Journal title, dtype: int64\n"
     ]
    }
   ],
   "source": [
    "print(welcome['Journal title'].str.lower().value_counts().head(5))"
   ]
  },
  {
   "cell_type": "code",
   "execution_count": 5,
   "metadata": {},
   "outputs": [
    {
     "name": "stdout",
     "output_type": "stream",
     "text": [
      "plos one                           190\n",
      "journal of biological chemistry     53\n",
      "neuroimage                          29\n",
      "nucleic acids research              26\n",
      "plos genetics                       24\n",
      "Name: Journal title, dtype: int64\n"
     ]
    }
   ],
   "source": [
    "welcome_clean = welcome\n",
    "welcome_clean['Journal title'] = welcome['Journal title'].apply(lambda x: str(x))\n",
    "welcome_clean['Journal title'] = welcome_clean['Journal title'].apply(lambda x: str(x).lower())\n",
    "welcome_clean['Journal title'] = welcome_clean['Journal title'].apply(lambda x: str(x).strip())\n",
    "print(welcome_clean['Journal title'].value_counts().head(5))"
   ]
  },
  {
   "cell_type": "code",
   "execution_count": 6,
   "metadata": {
    "scrolled": true
   },
   "outputs": [
    {
     "name": "stdout",
     "output_type": "stream",
     "text": [
      "plos one                           190\n",
      "journal of biological chemistry     53\n",
      "neuroimage                          29\n",
      "nucleic acids research              26\n",
      "plos genetics                       24\n",
      "Name: Journal title, dtype: int64\n"
     ]
    }
   ],
   "source": [
    "print(welcome_clean['Journal title'].loc[welcome_clean['Article title'] != ''].value_counts().head(5))"
   ]
  },
  {
   "cell_type": "code",
   "execution_count": 7,
   "metadata": {
    "scrolled": true
   },
   "outputs": [
    {
     "name": "stdout",
     "output_type": "stream",
     "text": [
      "Index([' ', 'Publisher', 'Journal title', 'Article title',\n",
      "       'COST (£) charged to Wellcome (inc VAT when charged)'],\n",
      "      dtype='object')\n"
     ]
    }
   ],
   "source": [
    "print(welcome_clean.columns)"
   ]
  },
  {
   "cell_type": "markdown",
   "metadata": {},
   "source": [
    "Need to get rid of the '£' in the cost column"
   ]
  },
  {
   "cell_type": "code",
   "execution_count": 8,
   "metadata": {},
   "outputs": [],
   "source": [
    "#method to remove Lin front of COST\n",
    "def cost(x):\n",
    "    if x[0] == '£':\n",
    "        return float(x[1:])\n",
    "\n",
    "welcome_clean['COST (£) charged to Wellcome (inc VAT when charged)']\\\n",
    "= welcome_clean['COST (£) charged to Wellcome (inc VAT when charged)']\\\n",
    ".apply(lambda x: cost(x))"
   ]
  },
  {
   "cell_type": "code",
   "execution_count": 9,
   "metadata": {
    "scrolled": true
   },
   "outputs": [
    {
     "name": "stdout",
     "output_type": "stream",
     "text": [
      "Journal title\n",
      "journal of biological chemistry    20264.633962\n",
      "neuroimage                          2215.168276\n",
      "nucleic acids research              1149.000000\n",
      "plos genetics                      84839.435000\n",
      "plos one                           38751.291368\n",
      "Name: COST (£) charged to Wellcome (inc VAT when charged), dtype: float64\n"
     ]
    }
   ],
   "source": [
    "print(welcome_clean['COST (£) charged to Wellcome (inc VAT when charged)']\n",
    "      .loc[welcome_clean['Journal title']\n",
    "           .isin(['plos one',\n",
    "                  'journal of biological chemistry',\n",
    "                  'neuroimage',\n",
    "                  'nucleic acids research',\n",
    "                  'plos genetics'])].groupby(welcome_clean['Journal title']).mean())"
   ]
  },
  {
   "cell_type": "code",
   "execution_count": 10,
   "metadata": {},
   "outputs": [
    {
     "name": "stdout",
     "output_type": "stream",
     "text": [
      "Journal title\n",
      "journal of biological chemistry    1314.530\n",
      "neuroimage                         2326.430\n",
      "nucleic acids research              852.000\n",
      "plos genetics                      1718.390\n",
      "plos one                            898.475\n",
      "Name: COST (£) charged to Wellcome (inc VAT when charged), dtype: float64\n"
     ]
    }
   ],
   "source": [
    "print(welcome_clean['COST (£) charged to Wellcome (inc VAT when charged)']\n",
    "      .loc[welcome_clean['Journal title']\n",
    "           .isin(['plos one',\n",
    "                  'journal of biological chemistry',\n",
    "                  'neuroimage',\n",
    "                  'nucleic acids research',\n",
    "                  'plos genetics'])].groupby(welcome_clean['Journal title']).median())"
   ]
  },
  {
   "cell_type": "code",
   "execution_count": 11,
   "metadata": {},
   "outputs": [
    {
     "name": "stdout",
     "output_type": "stream",
     "text": [
      "Journal title\n",
      "journal of biological chemistry    137165.488398\n",
      "neuroimage                            266.653947\n",
      "nucleic acids research                442.940447\n",
      "plos genetics                      281865.707794\n",
      "plos one                           189009.511974\n",
      "Name: COST (£) charged to Wellcome (inc VAT when charged), dtype: float64\n"
     ]
    }
   ],
   "source": [
    "print(welcome_clean['COST (£) charged to Wellcome (inc VAT when charged)']\n",
    "      .loc[welcome_clean['Journal title']\n",
    "           .isin(['plos one',\n",
    "                  'journal of biological chemistry',\n",
    "                  'neuroimage',\n",
    "                  'nucleic acids research',\n",
    "                  'plos genetics'])].groupby(welcome_clean['Journal title']).std())"
   ]
  }
 ],
 "metadata": {
  "kernelspec": {
   "display_name": "Python 3",
   "language": "python",
   "name": "python3"
  },
  "language_info": {
   "codemirror_mode": {
    "name": "ipython",
    "version": 3
   },
   "file_extension": ".py",
   "mimetype": "text/x-python",
   "name": "python",
   "nbconvert_exporter": "python",
   "pygments_lexer": "ipython3",
   "version": "3.6.5"
  }
 },
 "nbformat": 4,
 "nbformat_minor": 2
}
